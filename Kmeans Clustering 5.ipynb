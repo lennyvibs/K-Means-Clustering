{
 "cells": [
  {
   "cell_type": "markdown",
   "id": "3b87ef03",
   "metadata": {},
   "source": [
    "# INSURANCE DATASET\n",
    " Using the insurance Dataset to carry out kmeans clustering to group the policy holders to get a better understanding of the influencing factors."
   ]
  },
  {
   "cell_type": "markdown",
   "id": "862d5061",
   "metadata": {},
   "source": [
    "## BUSINESS OBJECTIVE\n",
    "* Maximize Profits\n",
    "* Identify Customer Segments\n",
    "* Maximize Quality of Service\n",
    "* Minimize Risk\n",
    "* Identify influencing factors"
   ]
  },
  {
   "cell_type": "markdown",
   "id": "13ec6d84",
   "metadata": {},
   "source": [
    "## CONSTRAINTS\n",
    "* Natural Calamity or Accidents\n",
    "* Crime rate\n"
   ]
  },
  {
   "cell_type": "markdown",
   "id": "070c9b64",
   "metadata": {},
   "source": [
    "## DATA DICTIONARY"
   ]
  },
  {
   "cell_type": "markdown",
   "id": "1a47d442",
   "metadata": {},
   "source": [
    "| **slno** | **Name of Feature** | **Description**                                         | **Type** | **Relevance** |\n",
    "|:--------:|:--------------------|:--------------------------------------------------------|:--------:|:-------------:|\n",
    "| 1        | Premiums Paid       | Premium Paid by the customer                            | Ratio    | Relevant      |\n",
    "| 2        | Age                 | Age of the customer                                     | Ratio    | Relevant      |\n",
    "| 3        | Days to Renew       | Days to renew the insurance                             | Ratio    | Relevant      |\n",
    "| 4        | Claims made         | Claims made by the customers                            | Ratio    | Relevant      |\n",
    "| 5        | Income              | Income of the customers                                 | Ratio    | Relevant      |"
   ]
  },
  {
   "cell_type": "markdown",
   "id": "46e5d637",
   "metadata": {},
   "source": [
    "Importing the required libraries."
   ]
  },
  {
   "cell_type": "code",
   "execution_count": 1,
   "id": "17e87c30",
   "metadata": {},
   "outputs": [],
   "source": [
    "import pandas as pd\n",
    "import numpy as np\n",
    "import matplotlib.pyplot as plt\n",
    "import seaborn as sns\n",
    "from scipy import stats\n",
    "from feature_engine.outliers import Winsorizer\n",
    "from termcolor import colored"
   ]
  },
  {
   "cell_type": "markdown",
   "id": "e26adb47",
   "metadata": {},
   "source": [
    "Loading the dataset using the pandas library and confirming the dataset has been loaded properly using the 'head' function"
   ]
  },
  {
   "cell_type": "code",
   "execution_count": 2,
   "id": "3fd16244",
   "metadata": {},
   "outputs": [
    {
     "data": {
      "text/html": [
       "<div>\n",
       "<style scoped>\n",
       "    .dataframe tbody tr th:only-of-type {\n",
       "        vertical-align: middle;\n",
       "    }\n",
       "\n",
       "    .dataframe tbody tr th {\n",
       "        vertical-align: top;\n",
       "    }\n",
       "\n",
       "    .dataframe thead th {\n",
       "        text-align: right;\n",
       "    }\n",
       "</style>\n",
       "<table border=\"1\" class=\"dataframe\">\n",
       "  <thead>\n",
       "    <tr style=\"text-align: right;\">\n",
       "      <th></th>\n",
       "      <th>Premiums Paid</th>\n",
       "      <th>Age</th>\n",
       "      <th>Days to Renew</th>\n",
       "      <th>Claims made</th>\n",
       "      <th>Income</th>\n",
       "    </tr>\n",
       "  </thead>\n",
       "  <tbody>\n",
       "    <tr>\n",
       "      <th>0</th>\n",
       "      <td>2800</td>\n",
       "      <td>26</td>\n",
       "      <td>233</td>\n",
       "      <td>3890.076336</td>\n",
       "      <td>28000</td>\n",
       "    </tr>\n",
       "    <tr>\n",
       "      <th>1</th>\n",
       "      <td>2950</td>\n",
       "      <td>27</td>\n",
       "      <td>130</td>\n",
       "      <td>2294.444444</td>\n",
       "      <td>29500</td>\n",
       "    </tr>\n",
       "    <tr>\n",
       "      <th>2</th>\n",
       "      <td>3100</td>\n",
       "      <td>28</td>\n",
       "      <td>144</td>\n",
       "      <td>2564.545455</td>\n",
       "      <td>31000</td>\n",
       "    </tr>\n",
       "    <tr>\n",
       "      <th>3</th>\n",
       "      <td>3250</td>\n",
       "      <td>30</td>\n",
       "      <td>65</td>\n",
       "      <td>1978.260870</td>\n",
       "      <td>32500</td>\n",
       "    </tr>\n",
       "    <tr>\n",
       "      <th>4</th>\n",
       "      <td>3400</td>\n",
       "      <td>32</td>\n",
       "      <td>56</td>\n",
       "      <td>2009.090909</td>\n",
       "      <td>34000</td>\n",
       "    </tr>\n",
       "  </tbody>\n",
       "</table>\n",
       "</div>"
      ],
      "text/plain": [
       "   Premiums Paid  Age  Days to Renew  Claims made  Income\n",
       "0           2800   26            233  3890.076336   28000\n",
       "1           2950   27            130  2294.444444   29500\n",
       "2           3100   28            144  2564.545455   31000\n",
       "3           3250   30             65  1978.260870   32500\n",
       "4           3400   32             56  2009.090909   34000"
      ]
     },
     "execution_count": 2,
     "metadata": {},
     "output_type": "execute_result"
    }
   ],
   "source": [
    "\n",
    "df0 = pd.read_csv(r\"D:\\360Digitmg\\ASSIGNMENTS\\Ass7\\Insurance Dataset.csv\")\n",
    "df=df0.copy()\n",
    "df.head()"
   ]
  },
  {
   "cell_type": "markdown",
   "id": "6b969727",
   "metadata": {},
   "source": [
    "### EXPLORATORY DATA ANALYSIS"
   ]
  },
  {
   "cell_type": "markdown",
   "id": "89606ccd",
   "metadata": {},
   "source": [
    "The below three lines give a general idea about the dataset like the shape, type and non null values."
   ]
  },
  {
   "cell_type": "code",
   "execution_count": 3,
   "id": "46c129c5",
   "metadata": {},
   "outputs": [
    {
     "data": {
      "text/plain": [
       "(100, 5)"
      ]
     },
     "execution_count": 3,
     "metadata": {},
     "output_type": "execute_result"
    }
   ],
   "source": [
    "df.shape"
   ]
  },
  {
   "cell_type": "code",
   "execution_count": 4,
   "id": "16c1f67c",
   "metadata": {},
   "outputs": [
    {
     "data": {
      "text/plain": [
       "Premiums Paid      int64\n",
       "Age                int64\n",
       "Days to Renew      int64\n",
       "Claims made      float64\n",
       "Income             int64\n",
       "dtype: object"
      ]
     },
     "execution_count": 4,
     "metadata": {},
     "output_type": "execute_result"
    }
   ],
   "source": [
    "df.dtypes"
   ]
  },
  {
   "cell_type": "code",
   "execution_count": 5,
   "id": "414ae339",
   "metadata": {},
   "outputs": [
    {
     "name": "stdout",
     "output_type": "stream",
     "text": [
      "<class 'pandas.core.frame.DataFrame'>\n",
      "RangeIndex: 100 entries, 0 to 99\n",
      "Data columns (total 5 columns):\n",
      " #   Column         Non-Null Count  Dtype  \n",
      "---  ------         --------------  -----  \n",
      " 0   Premiums Paid  100 non-null    int64  \n",
      " 1   Age            100 non-null    int64  \n",
      " 2   Days to Renew  100 non-null    int64  \n",
      " 3   Claims made    100 non-null    float64\n",
      " 4   Income         100 non-null    int64  \n",
      "dtypes: float64(1), int64(4)\n",
      "memory usage: 4.0 KB\n"
     ]
    }
   ],
   "source": [
    "df.info()"
   ]
  },
  {
   "cell_type": "markdown",
   "id": "78ee999b",
   "metadata": {},
   "source": [
    "The describe function gives the count, min, max, mean, standard deviation and quantile values of the dataset."
   ]
  },
  {
   "cell_type": "code",
   "execution_count": 6,
   "id": "12c467cc",
   "metadata": {},
   "outputs": [
    {
     "data": {
      "text/html": [
       "<div>\n",
       "<style scoped>\n",
       "    .dataframe tbody tr th:only-of-type {\n",
       "        vertical-align: middle;\n",
       "    }\n",
       "\n",
       "    .dataframe tbody tr th {\n",
       "        vertical-align: top;\n",
       "    }\n",
       "\n",
       "    .dataframe thead th {\n",
       "        text-align: right;\n",
       "    }\n",
       "</style>\n",
       "<table border=\"1\" class=\"dataframe\">\n",
       "  <thead>\n",
       "    <tr style=\"text-align: right;\">\n",
       "      <th></th>\n",
       "      <th>Premiums Paid</th>\n",
       "      <th>Age</th>\n",
       "      <th>Days to Renew</th>\n",
       "      <th>Claims made</th>\n",
       "      <th>Income</th>\n",
       "    </tr>\n",
       "  </thead>\n",
       "  <tbody>\n",
       "    <tr>\n",
       "      <th>count</th>\n",
       "      <td>100.000000</td>\n",
       "      <td>100.000000</td>\n",
       "      <td>100.000000</td>\n",
       "      <td>100.000000</td>\n",
       "      <td>100.000000</td>\n",
       "    </tr>\n",
       "    <tr>\n",
       "      <th>mean</th>\n",
       "      <td>12542.250000</td>\n",
       "      <td>46.110000</td>\n",
       "      <td>120.400000</td>\n",
       "      <td>12578.993367</td>\n",
       "      <td>102250.000000</td>\n",
       "    </tr>\n",
       "    <tr>\n",
       "      <th>std</th>\n",
       "      <td>6790.731666</td>\n",
       "      <td>13.887641</td>\n",
       "      <td>88.055767</td>\n",
       "      <td>13695.906762</td>\n",
       "      <td>43517.237964</td>\n",
       "    </tr>\n",
       "    <tr>\n",
       "      <th>min</th>\n",
       "      <td>2800.000000</td>\n",
       "      <td>23.000000</td>\n",
       "      <td>1.000000</td>\n",
       "      <td>1978.260870</td>\n",
       "      <td>28000.000000</td>\n",
       "    </tr>\n",
       "    <tr>\n",
       "      <th>25%</th>\n",
       "      <td>6975.000000</td>\n",
       "      <td>34.000000</td>\n",
       "      <td>56.000000</td>\n",
       "      <td>5220.648735</td>\n",
       "      <td>65125.000000</td>\n",
       "    </tr>\n",
       "    <tr>\n",
       "      <th>50%</th>\n",
       "      <td>11825.000000</td>\n",
       "      <td>45.000000</td>\n",
       "      <td>89.000000</td>\n",
       "      <td>8386.043907</td>\n",
       "      <td>102250.000000</td>\n",
       "    </tr>\n",
       "    <tr>\n",
       "      <th>75%</th>\n",
       "      <td>15475.000000</td>\n",
       "      <td>54.500000</td>\n",
       "      <td>186.500000</td>\n",
       "      <td>14670.889520</td>\n",
       "      <td>139375.000000</td>\n",
       "    </tr>\n",
       "    <tr>\n",
       "      <th>max</th>\n",
       "      <td>29900.000000</td>\n",
       "      <td>82.000000</td>\n",
       "      <td>321.000000</td>\n",
       "      <td>99676.744190</td>\n",
       "      <td>176500.000000</td>\n",
       "    </tr>\n",
       "  </tbody>\n",
       "</table>\n",
       "</div>"
      ],
      "text/plain": [
       "       Premiums Paid         Age  Days to Renew   Claims made         Income\n",
       "count     100.000000  100.000000     100.000000    100.000000     100.000000\n",
       "mean    12542.250000   46.110000     120.400000  12578.993367  102250.000000\n",
       "std      6790.731666   13.887641      88.055767  13695.906762   43517.237964\n",
       "min      2800.000000   23.000000       1.000000   1978.260870   28000.000000\n",
       "25%      6975.000000   34.000000      56.000000   5220.648735   65125.000000\n",
       "50%     11825.000000   45.000000      89.000000   8386.043907  102250.000000\n",
       "75%     15475.000000   54.500000     186.500000  14670.889520  139375.000000\n",
       "max     29900.000000   82.000000     321.000000  99676.744190  176500.000000"
      ]
     },
     "execution_count": 6,
     "metadata": {},
     "output_type": "execute_result"
    }
   ],
   "source": [
    "df.describe()"
   ]
  },
  {
   "cell_type": "markdown",
   "id": "f7717389",
   "metadata": {},
   "source": [
    "Checking the Number of Duplicates in the Dataset."
   ]
  },
  {
   "cell_type": "code",
   "execution_count": 7,
   "id": "7e5d1006",
   "metadata": {},
   "outputs": [
    {
     "name": "stdout",
     "output_type": "stream",
     "text": [
      "\u001b[1m\u001b[34m Number of Duplicate values: \u001b[0m 0\n"
     ]
    }
   ],
   "source": [
    "duplicate_values=df.duplicated(subset=None,keep='first').sum()\n",
    "print(colored(' Number of Duplicate values: ','blue',attrs=['bold']),duplicate_values)"
   ]
  },
  {
   "cell_type": "markdown",
   "id": "596b1b85",
   "metadata": {},
   "source": [
    "Checking the Number and Percentage of Missing Values in the Dataset."
   ]
  },
  {
   "cell_type": "code",
   "execution_count": 8,
   "id": "72d872c0",
   "metadata": {},
   "outputs": [
    {
     "name": "stdout",
     "output_type": "stream",
     "text": [
      "\u001b[1m\u001b[34mNumber of Missing Values\n",
      "\n",
      "\u001b[0m Premiums Paid    0\n",
      "Age              0\n",
      "Days to Renew    0\n",
      "Claims made      0\n",
      "Income           0\n",
      "dtype: int64\n"
     ]
    }
   ],
   "source": [
    "missing=df.isna().sum().sort_values(ascending=False)\n",
    "print(colored(\"Number of Missing Values\\n\\n\",'blue',attrs=['bold']),missing)"
   ]
  },
  {
   "cell_type": "code",
   "execution_count": 9,
   "id": "422f0bc7",
   "metadata": {},
   "outputs": [
    {
     "name": "stdout",
     "output_type": "stream",
     "text": [
      "\u001b[1m\u001b[34mNumber of Unique Values:\n",
      "\n",
      "\u001b[0m Premiums Paid    100\n",
      "Age               31\n",
      "Days to Renew     33\n",
      "Claims made      100\n",
      "Income           100\n",
      "dtype: int64\n"
     ]
    }
   ],
   "source": [
    "print(colored('Number of Unique Values:\\n\\n','blue',attrs=['bold']),df.nunique())"
   ]
  },
  {
   "cell_type": "markdown",
   "id": "f658e768",
   "metadata": {},
   "source": [
    "### First Moment Business Decision or Measures of Central Tendency.\n",
    "* It gives the mean, median and mode values of the dataset.\n",
    "* Mean is the average of the data and it easily gets influenced by the outliers.\n",
    "* Median is the middle most value of the dataset.\n",
    "* Mode is the most repeated value of the dataset.\n",
    "* If the mean, median & mode are same then the data has normal distribution otherwise the distribution is not normal."
   ]
  },
  {
   "cell_type": "code",
   "execution_count": 10,
   "id": "c8ffae12",
   "metadata": {},
   "outputs": [
    {
     "data": {
      "text/plain": [
       "Premiums Paid     12542.250000\n",
       "Age                  46.110000\n",
       "Days to Renew       120.400000\n",
       "Claims made       12578.993367\n",
       "Income           102250.000000\n",
       "dtype: float64"
      ]
     },
     "execution_count": 10,
     "metadata": {},
     "output_type": "execute_result"
    }
   ],
   "source": [
    "df.mean()"
   ]
  },
  {
   "cell_type": "code",
   "execution_count": 11,
   "id": "457e7aa8",
   "metadata": {},
   "outputs": [
    {
     "data": {
      "text/plain": [
       "Premiums Paid     11825.000000\n",
       "Age                  45.000000\n",
       "Days to Renew        89.000000\n",
       "Claims made        8386.043907\n",
       "Income           102250.000000\n",
       "dtype: float64"
      ]
     },
     "execution_count": 11,
     "metadata": {},
     "output_type": "execute_result"
    }
   ],
   "source": [
    "df.median()"
   ]
  },
  {
   "cell_type": "code",
   "execution_count": 12,
   "id": "b828d378",
   "metadata": {},
   "outputs": [
    {
     "data": {
      "text/plain": [
       "ModeResult(mode=array([[ 2800.     ,    45.     ,    48.     ,  1978.26087, 28000.     ]]), count=array([[1, 8, 6, 1, 1]]))"
      ]
     },
     "execution_count": 12,
     "metadata": {},
     "output_type": "execute_result"
    }
   ],
   "source": [
    "stats.mode(df)"
   ]
  },
  {
   "cell_type": "markdown",
   "id": "ff80d2c1",
   "metadata": {},
   "source": [
    "### Second Moment Business Decision or Measures of Dispersion\n",
    "* It contains Variance, Standard Deviation & Range.\n",
    "* It gives a general idea about the spread of data in the dataset.\n",
    "* Variance is the average squared distance of each data point from the mean.\n",
    "* Standard deviation is the root of the variance.\n",
    "* Range is the difference between the max and min data point of the dataset."
   ]
  },
  {
   "cell_type": "code",
   "execution_count": 13,
   "id": "437c14a9",
   "metadata": {},
   "outputs": [
    {
     "data": {
      "text/plain": [
       "Premiums Paid    4.611404e+07\n",
       "Age              1.928666e+02\n",
       "Days to Renew    7.753818e+03\n",
       "Claims made      1.875779e+08\n",
       "Income           1.893750e+09\n",
       "dtype: float64"
      ]
     },
     "execution_count": 13,
     "metadata": {},
     "output_type": "execute_result"
    }
   ],
   "source": [
    "df.var()"
   ]
  },
  {
   "cell_type": "code",
   "execution_count": 14,
   "id": "f2adb8c6",
   "metadata": {},
   "outputs": [
    {
     "data": {
      "text/plain": [
       "Premiums Paid     6790.731666\n",
       "Age                 13.887641\n",
       "Days to Renew       88.055767\n",
       "Claims made      13695.906762\n",
       "Income           43517.237964\n",
       "dtype: float64"
      ]
     },
     "execution_count": 14,
     "metadata": {},
     "output_type": "execute_result"
    }
   ],
   "source": [
    "df.std()"
   ]
  },
  {
   "cell_type": "code",
   "execution_count": 15,
   "id": "6f511f1f",
   "metadata": {},
   "outputs": [
    {
     "data": {
      "text/plain": [
       "Premiums Paid     27100.00000\n",
       "Age                  59.00000\n",
       "Days to Renew       320.00000\n",
       "Claims made       97698.48332\n",
       "Income           148500.00000\n",
       "dtype: float64"
      ]
     },
     "execution_count": 15,
     "metadata": {},
     "output_type": "execute_result"
    }
   ],
   "source": [
    "Range=df.max()-df.min()\n",
    "Range"
   ]
  },
  {
   "cell_type": "markdown",
   "id": "28a243e8",
   "metadata": {},
   "source": [
    "### THIRD MOMENT BUSINESS DECISION OR SKEWNESS\n",
    "* Skewness gives the measure of asymmetry in a data.\n",
    "* The types of skewness are as follows:\n",
    "    * Negative skewness or left skewed.\n",
    "    * Positive skewness or right skewed.\n",
    "    * If skewness = 0 then it is normally distributed."
   ]
  },
  {
   "cell_type": "code",
   "execution_count": 16,
   "id": "4a418d49",
   "metadata": {},
   "outputs": [
    {
     "data": {
      "text/plain": [
       "Premiums Paid    0.767263\n",
       "Age              0.439698\n",
       "Days to Renew    0.670326\n",
       "Claims made      3.551233\n",
       "Income           0.000000\n",
       "dtype: float64"
      ]
     },
     "execution_count": 16,
     "metadata": {},
     "output_type": "execute_result"
    }
   ],
   "source": [
    "df.skew()"
   ]
  },
  {
   "cell_type": "markdown",
   "id": "66e9277b",
   "metadata": {},
   "source": [
    "### FOURTH MOMENT BUSINESS DECISION OR KURTOSIS\n",
    "* Kurtosis is the peakedness of the distribution.\n",
    "* Negative kurtosis implies a wider peak and thinner tails.\n",
    "* Positive kurtosis implies a narrow peak and wider tails."
   ]
  },
  {
   "cell_type": "code",
   "execution_count": 17,
   "id": "488baf39",
   "metadata": {
    "scrolled": true
   },
   "outputs": [
    {
     "data": {
      "text/plain": [
       "Premiums Paid    -0.134543\n",
       "Age              -0.287800\n",
       "Days to Renew    -0.786621\n",
       "Claims made      17.254497\n",
       "Income           -1.200000\n",
       "dtype: float64"
      ]
     },
     "execution_count": 17,
     "metadata": {},
     "output_type": "execute_result"
    }
   ],
   "source": [
    "df.kurt()"
   ]
  },
  {
   "cell_type": "markdown",
   "id": "55e7aebe",
   "metadata": {},
   "source": [
    "### GRAPHICAL REPRESENTATION"
   ]
  },
  {
   "cell_type": "markdown",
   "id": "7f7befb7",
   "metadata": {},
   "source": [
    "Plotting histograms of each variable."
   ]
  },
  {
   "cell_type": "code",
   "execution_count": 18,
   "id": "e440e9fa",
   "metadata": {},
   "outputs": [
    {
     "name": "stderr",
     "output_type": "stream",
     "text": [
      "C:\\Users\\lenny\\AppData\\Local\\Temp\\ipykernel_26840\\522995607.py:3: UserWarning: To output multiple subplots, the figure containing the passed axes is being cleared.\n",
      "  df.hist(ax=ax)\n"
     ]
    },
    {
     "data": {
      "text/plain": [
       "<function matplotlib.pyplot.show(close=None, block=None)>"
      ]
     },
     "execution_count": 18,
     "metadata": {},
     "output_type": "execute_result"
    },
    {
     "data": {
      "image/png": "[encoded data removed]",
      "text/plain": [
       "<Figure size 1080x576 with 6 Axes>"
      ]
     },
     "metadata": {
      "needs_background": "light"
     },
     "output_type": "display_data"
    }
   ],
   "source": [
    "fig=plt.figure(figsize=(15,8))\n",
    "ax=fig.gca()\n",
    "df.hist(ax=ax)\n",
    "plt.show"
   ]
  },
  {
   "cell_type": "code",
   "execution_count": 19,
   "id": "1e37118b",
   "metadata": {},
   "outputs": [
    {
     "name": "stderr",
     "output_type": "stream",
     "text": [
      "C:\\Users\\lenny\\anaconda3\\lib\\site-packages\\seaborn\\_decorators.py:36: FutureWarning: Pass the following variables as keyword args: x, y. From version 0.12, the only valid positional argument will be `data`, and passing other arguments without an explicit keyword will result in an error or misinterpretation.\n",
      "  warnings.warn(\n"
     ]
    },
    {
     "data": {
      "image/png": "[encoded data removed]",
      "text/plain": [
       "<Figure size 1080x576 with 1 Axes>"
      ]
     },
     "metadata": {
      "needs_background": "light"
     },
     "output_type": "display_data"
    }
   ],
   "source": [
    "plt.figure(figsize=(15,8))\n",
    "sns.scatterplot(df.Income,df['Claims made'])\n",
    "plt.title(\"Bivariate Analysis using Scatterplot\")\n",
    "plt.show()"
   ]
  },
  {
   "cell_type": "markdown",
   "id": "728e8a4d",
   "metadata": {},
   "source": [
    "Plotting boxplots of each variable."
   ]
  },
  {
   "cell_type": "code",
   "execution_count": 20,
   "id": "06dd1769",
   "metadata": {},
   "outputs": [
    {
     "data": {
      "text/plain": [
       "Index(['Premiums Paid', 'Age', 'Days to Renew', 'Claims made', 'Income'], dtype='object')"
      ]
     },
     "execution_count": 20,
     "metadata": {},
     "output_type": "execute_result"
    }
   ],
   "source": [
    "df.columns"
   ]
  },
  {
   "cell_type": "code",
   "execution_count": 21,
   "id": "21a9db01",
   "metadata": {},
   "outputs": [
    {
     "name": "stderr",
     "output_type": "stream",
     "text": [
      "C:\\Users\\lenny\\anaconda3\\lib\\site-packages\\seaborn\\_decorators.py:36: FutureWarning: Pass the following variable as a keyword arg: x. From version 0.12, the only valid positional argument will be `data`, and passing other arguments without an explicit keyword will result in an error or misinterpretation.\n",
      "  warnings.warn(\n"
     ]
    },
    {
     "data": {
      "text/plain": [
       "<AxesSubplot:xlabel='Premiums Paid'>"
      ]
     },
     "execution_count": 21,
     "metadata": {},
     "output_type": "execute_result"
    },
    {
     "data": {
      "image/png": "[encoded data removed]",
      "text/plain": [
       "<Figure size 432x288 with 1 Axes>"
      ]
     },
     "metadata": {
      "needs_background": "light"
     },
     "output_type": "display_data"
    }
   ],
   "source": [
    "sns.boxplot(df[\"Premiums Paid\"])"
   ]
  },
  {
   "cell_type": "code",
   "execution_count": 22,
   "id": "0471ff5f",
   "metadata": {},
   "outputs": [
    {
     "name": "stderr",
     "output_type": "stream",
     "text": [
      "C:\\Users\\lenny\\anaconda3\\lib\\site-packages\\seaborn\\_decorators.py:36: FutureWarning: Pass the following variable as a keyword arg: x. From version 0.12, the only valid positional argument will be `data`, and passing other arguments without an explicit keyword will result in an error or misinterpretation.\n",
      "  warnings.warn(\n"
     ]
    },
    {
     "data": {
      "text/plain": [
       "<AxesSubplot:xlabel='Days to Renew'>"
      ]
     },
     "execution_count": 22,
     "metadata": {},
     "output_type": "execute_result"
    },
    {
     "data": {
      "image/png": "[encoded data removed]",
      "text/plain": [
       "<Figure size 432x288 with 1 Axes>"
      ]
     },
     "metadata": {
      "needs_background": "light"
     },
     "output_type": "display_data"
    }
   ],
   "source": [
    "sns.boxplot(df['Days to Renew'])"
   ]
  },
  {
   "cell_type": "code",
   "execution_count": 23,
   "id": "9a5da362",
   "metadata": {},
   "outputs": [
    {
     "name": "stderr",
     "output_type": "stream",
     "text": [
      "C:\\Users\\lenny\\anaconda3\\lib\\site-packages\\seaborn\\_decorators.py:36: FutureWarning: Pass the following variable as a keyword arg: x. From version 0.12, the only valid positional argument will be `data`, and passing other arguments without an explicit keyword will result in an error or misinterpretation.\n",
      "  warnings.warn(\n"
     ]
    },
    {
     "data": {
      "text/plain": [
       "<AxesSubplot:xlabel='Claims made'>"
      ]
     },
     "execution_count": 23,
     "metadata": {},
     "output_type": "execute_result"
    },
    {
     "data": {
      "image/png": "[encoded data removed]",
      "text/plain": [
       "<Figure size 432x288 with 1 Axes>"
      ]
     },
     "metadata": {
      "needs_background": "light"
     },
     "output_type": "display_data"
    }
   ],
   "source": [
    "sns.boxplot(df['Claims made'])"
   ]
  },
  {
   "cell_type": "code",
   "execution_count": 24,
   "id": "38ca1f30",
   "metadata": {},
   "outputs": [
    {
     "name": "stderr",
     "output_type": "stream",
     "text": [
      "C:\\Users\\lenny\\anaconda3\\lib\\site-packages\\seaborn\\_decorators.py:36: FutureWarning: Pass the following variable as a keyword arg: x. From version 0.12, the only valid positional argument will be `data`, and passing other arguments without an explicit keyword will result in an error or misinterpretation.\n",
      "  warnings.warn(\n"
     ]
    },
    {
     "data": {
      "text/plain": [
       "<AxesSubplot:xlabel='Income'>"
      ]
     },
     "execution_count": 24,
     "metadata": {},
     "output_type": "execute_result"
    },
    {
     "data": {
      "image/png": "[encoded data removed]",
      "text/plain": [
       "<Figure size 432x288 with 1 Axes>"
      ]
     },
     "metadata": {
      "needs_background": "light"
     },
     "output_type": "display_data"
    }
   ],
   "source": [
    "sns.boxplot(df['Income'])"
   ]
  },
  {
   "cell_type": "markdown",
   "id": "e8051d60",
   "metadata": {},
   "source": [
    "From the boxplots it is very evident that there are outliers in the dataset so using the below custom function calculated the number of outliers in each variable."
   ]
  },
  {
   "cell_type": "code",
   "execution_count": 25,
   "id": "2ff497e6",
   "metadata": {},
   "outputs": [],
   "source": [
    "#Defining a custom function to get the number of outliers present as doing the steps again would just add extra lines \n",
    "def outlier_func(i):\n",
    "    x=i.quantile(0.25)-((i.quantile(0.75)-i.quantile(0.25))*1.5)\n",
    "    y=i.quantile(0.75)+((i.quantile(0.75)-i.quantile(0.25))*1.5)\n",
    "    outliers= np.where(i > y, True, np.where(i < x, True, False))\n",
    "    return(outliers)"
   ]
  },
  {
   "cell_type": "code",
   "execution_count": 26,
   "id": "ba1f1c2e",
   "metadata": {},
   "outputs": [
    {
     "data": {
      "text/plain": [
       "2"
      ]
     },
     "execution_count": 26,
     "metadata": {},
     "output_type": "execute_result"
    }
   ],
   "source": [
    "sum(outlier_func(df[\"Premiums Paid\"]))"
   ]
  },
  {
   "cell_type": "code",
   "execution_count": 27,
   "id": "39a01481",
   "metadata": {},
   "outputs": [
    {
     "data": {
      "text/plain": [
       "8"
      ]
     },
     "execution_count": 27,
     "metadata": {},
     "output_type": "execute_result"
    }
   ],
   "source": [
    "sum(outlier_func(df[\"Claims made\"]))"
   ]
  },
  {
   "cell_type": "markdown",
   "id": "b64bffa1",
   "metadata": {},
   "source": [
    "Using winsorization to rectify the outliers to avoid data lose.The module used for Winsorization is feature_engine"
   ]
  },
  {
   "cell_type": "code",
   "execution_count": 28,
   "id": "3a5415f6",
   "metadata": {},
   "outputs": [
    {
     "data": {
      "text/plain": [
       "0"
      ]
     },
     "execution_count": 28,
     "metadata": {},
     "output_type": "execute_result"
    }
   ],
   "source": [
    "winsor= Winsorizer(capping_method='iqr',\n",
    "                   tail='both',\n",
    "                   fold=1.5,\n",
    "                   variables=[\"Premiums Paid\"])\n",
    "\n",
    "df[\"Premiums Paid\"]= winsor.fit_transform(df[[\"Premiums Paid\"]])\n",
    "sum(outlier_func(df[\"Premiums Paid\"]))"
   ]
  },
  {
   "cell_type": "code",
   "execution_count": 29,
   "id": "3c5bfa60",
   "metadata": {},
   "outputs": [
    {
     "data": {
      "text/plain": [
       "0"
      ]
     },
     "execution_count": 29,
     "metadata": {},
     "output_type": "execute_result"
    }
   ],
   "source": [
    "winsor= Winsorizer(capping_method='iqr',\n",
    "                   tail='both',\n",
    "                   fold=1.5,\n",
    "                   variables=[\"Claims made\"])\n",
    "\n",
    "df[\"Claims made\"]= winsor.fit_transform(df[[\"Claims made\"]])\n",
    "sum(outlier_func(df[\"Claims made\"]))"
   ]
  },
  {
   "cell_type": "markdown",
   "id": "5cddab2f",
   "metadata": {},
   "source": [
    "Again plotting boxplots to show the difference in the boxplots after rectifying the outliers."
   ]
  },
  {
   "cell_type": "code",
   "execution_count": 30,
   "id": "ae84523a",
   "metadata": {
    "scrolled": true
   },
   "outputs": [
    {
     "name": "stderr",
     "output_type": "stream",
     "text": [
      "C:\\Users\\lenny\\anaconda3\\lib\\site-packages\\seaborn\\_decorators.py:36: FutureWarning: Pass the following variable as a keyword arg: x. From version 0.12, the only valid positional argument will be `data`, and passing other arguments without an explicit keyword will result in an error or misinterpretation.\n",
      "  warnings.warn(\n"
     ]
    },
    {
     "data": {
      "text/plain": [
       "<AxesSubplot:xlabel='Premiums Paid'>"
      ]
     },
     "execution_count": 30,
     "metadata": {},
     "output_type": "execute_result"
    },
    {
     "data": {
      "image/png": "[encoded data removed]",
      "text/plain": [
       "<Figure size 432x288 with 1 Axes>"
      ]
     },
     "metadata": {
      "needs_background": "light"
     },
     "output_type": "display_data"
    }
   ],
   "source": [
    "sns.boxplot(df['Premiums Paid'])"
   ]
  },
  {
   "cell_type": "code",
   "execution_count": 31,
   "id": "1306f4e7",
   "metadata": {},
   "outputs": [
    {
     "name": "stderr",
     "output_type": "stream",
     "text": [
      "C:\\Users\\lenny\\anaconda3\\lib\\site-packages\\seaborn\\_decorators.py:36: FutureWarning: Pass the following variable as a keyword arg: x. From version 0.12, the only valid positional argument will be `data`, and passing other arguments without an explicit keyword will result in an error or misinterpretation.\n",
      "  warnings.warn(\n"
     ]
    },
    {
     "data": {
      "text/plain": [
       "<AxesSubplot:xlabel='Claims made'>"
      ]
     },
     "execution_count": 31,
     "metadata": {},
     "output_type": "execute_result"
    },
    {
     "data": {
      "image/png": "[encoded data removed]",
      "text/plain": [
       "<Figure size 432x288 with 1 Axes>"
      ]
     },
     "metadata": {
      "needs_background": "light"
     },
     "output_type": "display_data"
    }
   ],
   "source": [
    "sns.boxplot(df['Claims made'])"
   ]
  },
  {
   "cell_type": "markdown",
   "id": "3563d42a",
   "metadata": {},
   "source": [
    "## NORMALIZATION\n",
    "Before clustering the data is scaled using normalization "
   ]
  },
  {
   "cell_type": "markdown",
   "id": "ebc801ec",
   "metadata": {},
   "source": [
    "Using the MinMaxScaler from sklearn.preprocessing library we do normalization and from the descriptive statistics we can see that the values are between 0 and 1."
   ]
  },
  {
   "cell_type": "code",
   "execution_count": 32,
   "id": "5c67a81f",
   "metadata": {},
   "outputs": [
    {
     "data": {
      "text/html": [
       "<div>\n",
       "<style scoped>\n",
       "    .dataframe tbody tr th:only-of-type {\n",
       "        vertical-align: middle;\n",
       "    }\n",
       "\n",
       "    .dataframe tbody tr th {\n",
       "        vertical-align: top;\n",
       "    }\n",
       "\n",
       "    .dataframe thead th {\n",
       "        text-align: right;\n",
       "    }\n",
       "</style>\n",
       "<table border=\"1\" class=\"dataframe\">\n",
       "  <thead>\n",
       "    <tr style=\"text-align: right;\">\n",
       "      <th></th>\n",
       "      <th>Premiums Paid</th>\n",
       "      <th>Age</th>\n",
       "      <th>Days to Renew</th>\n",
       "      <th>Claims made</th>\n",
       "      <th>Income</th>\n",
       "    </tr>\n",
       "  </thead>\n",
       "  <tbody>\n",
       "    <tr>\n",
       "      <th>0</th>\n",
       "      <td>0.0000</td>\n",
       "      <td>0.050847</td>\n",
       "      <td>0.725000</td>\n",
       "      <td>0.071156</td>\n",
       "      <td>0.000000</td>\n",
       "    </tr>\n",
       "    <tr>\n",
       "      <th>1</th>\n",
       "      <td>0.0059</td>\n",
       "      <td>0.067797</td>\n",
       "      <td>0.403125</td>\n",
       "      <td>0.011768</td>\n",
       "      <td>0.010101</td>\n",
       "    </tr>\n",
       "  </tbody>\n",
       "</table>\n",
       "</div>"
      ],
      "text/plain": [
       "   Premiums Paid       Age  Days to Renew  Claims made    Income\n",
       "0         0.0000  0.050847       0.725000     0.071156  0.000000\n",
       "1         0.0059  0.067797       0.403125     0.011768  0.010101"
      ]
     },
     "execution_count": 32,
     "metadata": {},
     "output_type": "execute_result"
    }
   ],
   "source": [
    "from sklearn.preprocessing import MinMaxScaler\n",
    "minmax=MinMaxScaler()\n",
    "df_minmax=pd.DataFrame(minmax.fit_transform(df),columns=df.columns,index=df.index)\n",
    "df_minmax.head(2)"
   ]
  },
  {
   "cell_type": "code",
   "execution_count": 33,
   "id": "b4793fd4",
   "metadata": {},
   "outputs": [
    {
     "data": {
      "text/html": [
       "<div>\n",
       "<style scoped>\n",
       "    .dataframe tbody tr th:only-of-type {\n",
       "        vertical-align: middle;\n",
       "    }\n",
       "\n",
       "    .dataframe tbody tr th {\n",
       "        vertical-align: top;\n",
       "    }\n",
       "\n",
       "    .dataframe thead th {\n",
       "        text-align: right;\n",
       "    }\n",
       "</style>\n",
       "<table border=\"1\" class=\"dataframe\">\n",
       "  <thead>\n",
       "    <tr style=\"text-align: right;\">\n",
       "      <th></th>\n",
       "      <th>Premiums Paid</th>\n",
       "      <th>Age</th>\n",
       "      <th>Days to Renew</th>\n",
       "      <th>Claims made</th>\n",
       "      <th>Income</th>\n",
       "    </tr>\n",
       "  </thead>\n",
       "  <tbody>\n",
       "    <tr>\n",
       "      <th>count</th>\n",
       "      <td>100.000000</td>\n",
       "      <td>100.000000</td>\n",
       "      <td>100.000000</td>\n",
       "      <td>100.000000</td>\n",
       "      <td>100.000000</td>\n",
       "    </tr>\n",
       "    <tr>\n",
       "      <th>mean</th>\n",
       "      <td>0.381976</td>\n",
       "      <td>0.391695</td>\n",
       "      <td>0.373125</td>\n",
       "      <td>0.331933</td>\n",
       "      <td>0.500000</td>\n",
       "    </tr>\n",
       "    <tr>\n",
       "      <th>std</th>\n",
       "      <td>0.264134</td>\n",
       "      <td>0.235384</td>\n",
       "      <td>0.275174</td>\n",
       "      <td>0.288089</td>\n",
       "      <td>0.293045</td>\n",
       "    </tr>\n",
       "    <tr>\n",
       "      <th>min</th>\n",
       "      <td>0.000000</td>\n",
       "      <td>0.000000</td>\n",
       "      <td>0.000000</td>\n",
       "      <td>0.000000</td>\n",
       "      <td>0.000000</td>\n",
       "    </tr>\n",
       "    <tr>\n",
       "      <th>25%</th>\n",
       "      <td>0.164208</td>\n",
       "      <td>0.186441</td>\n",
       "      <td>0.171875</td>\n",
       "      <td>0.120678</td>\n",
       "      <td>0.250000</td>\n",
       "    </tr>\n",
       "    <tr>\n",
       "      <th>50%</th>\n",
       "      <td>0.354966</td>\n",
       "      <td>0.372881</td>\n",
       "      <td>0.275000</td>\n",
       "      <td>0.238491</td>\n",
       "      <td>0.500000</td>\n",
       "    </tr>\n",
       "    <tr>\n",
       "      <th>75%</th>\n",
       "      <td>0.498525</td>\n",
       "      <td>0.533898</td>\n",
       "      <td>0.579687</td>\n",
       "      <td>0.472407</td>\n",
       "      <td>0.750000</td>\n",
       "    </tr>\n",
       "    <tr>\n",
       "      <th>max</th>\n",
       "      <td>1.000000</td>\n",
       "      <td>1.000000</td>\n",
       "      <td>1.000000</td>\n",
       "      <td>1.000000</td>\n",
       "      <td>1.000000</td>\n",
       "    </tr>\n",
       "  </tbody>\n",
       "</table>\n",
       "</div>"
      ],
      "text/plain": [
       "       Premiums Paid         Age  Days to Renew  Claims made      Income\n",
       "count     100.000000  100.000000     100.000000   100.000000  100.000000\n",
       "mean        0.381976    0.391695       0.373125     0.331933    0.500000\n",
       "std         0.264134    0.235384       0.275174     0.288089    0.293045\n",
       "min         0.000000    0.000000       0.000000     0.000000    0.000000\n",
       "25%         0.164208    0.186441       0.171875     0.120678    0.250000\n",
       "50%         0.354966    0.372881       0.275000     0.238491    0.500000\n",
       "75%         0.498525    0.533898       0.579687     0.472407    0.750000\n",
       "max         1.000000    1.000000       1.000000     1.000000    1.000000"
      ]
     },
     "execution_count": 33,
     "metadata": {},
     "output_type": "execute_result"
    }
   ],
   "source": [
    "df_minmax.describe()"
   ]
  },
  {
   "cell_type": "markdown",
   "id": "6ddf4190",
   "metadata": {},
   "source": [
    "### SCREE PLOT\n",
    "Creating the Scree plot to get an idea about the number of clusters to choose for Kmeans Clustering."
   ]
  },
  {
   "cell_type": "code",
   "execution_count": 34,
   "id": "4244894e",
   "metadata": {},
   "outputs": [
    {
     "data": {
      "text/plain": [
       "[21.370955440747995,\n",
       " 15.781255399942342,\n",
       " 12.04988528920737,\n",
       " 9.751890760469461,\n",
       " 8.101284801872286,\n",
       " 7.195439296216091,\n",
       " 6.3841563238095524]"
      ]
     },
     "execution_count": 34,
     "metadata": {},
     "output_type": "execute_result"
    }
   ],
   "source": [
    "from sklearn.cluster import KMeans\n",
    "TWSS=[]\n",
    "k=list(range(2,9))\n",
    "for i in k:\n",
    "    kmeans= KMeans(n_clusters=i)\n",
    "    kmeans.fit(df_minmax)\n",
    "    TWSS.append(kmeans.inertia_)\n",
    "TWSS"
   ]
  },
  {
   "cell_type": "code",
   "execution_count": 35,
   "id": "4e260ab6",
   "metadata": {},
   "outputs": [
    {
     "data": {
      "text/plain": [
       "Text(0, 0.5, 'Total within SS')"
      ]
     },
     "execution_count": 35,
     "metadata": {},
     "output_type": "execute_result"
    },
    {
     "data": {
      "image/png": "[encoded data removed]",
      "text/plain": [
       "<Figure size 432x288 with 1 Axes>"
      ]
     },
     "metadata": {
      "needs_background": "light"
     },
     "output_type": "display_data"
    }
   ],
   "source": [
    "plt.plot(k,TWSS,'ro-');plt.xlabel(\"No of Clusters\"); plt.ylabel(\"Total within SS\")"
   ]
  },
  {
   "cell_type": "markdown",
   "id": "b4ef0eaf",
   "metadata": {},
   "source": [
    "From the scree plot 3 number of clusters seem to be the most optimum number for kmeans clustering."
   ]
  },
  {
   "cell_type": "markdown",
   "id": "e755ae23",
   "metadata": {},
   "source": [
    "### NO OF CLUSTERS : 3"
   ]
  },
  {
   "cell_type": "code",
   "execution_count": 36,
   "id": "d0b6178a",
   "metadata": {},
   "outputs": [
    {
     "data": {
      "text/html": [
       "<div>\n",
       "<style scoped>\n",
       "    .dataframe tbody tr th:only-of-type {\n",
       "        vertical-align: middle;\n",
       "    }\n",
       "\n",
       "    .dataframe tbody tr th {\n",
       "        vertical-align: top;\n",
       "    }\n",
       "\n",
       "    .dataframe thead th {\n",
       "        text-align: right;\n",
       "    }\n",
       "</style>\n",
       "<table border=\"1\" class=\"dataframe\">\n",
       "  <thead>\n",
       "    <tr style=\"text-align: right;\">\n",
       "      <th></th>\n",
       "      <th>Premiums Paid</th>\n",
       "      <th>Age</th>\n",
       "      <th>Days to Renew</th>\n",
       "      <th>Claims made</th>\n",
       "      <th>Income</th>\n",
       "      <th>clust</th>\n",
       "    </tr>\n",
       "  </thead>\n",
       "  <tbody>\n",
       "    <tr>\n",
       "      <th>0</th>\n",
       "      <td>2800.0</td>\n",
       "      <td>26</td>\n",
       "      <td>233</td>\n",
       "      <td>3890.076336</td>\n",
       "      <td>28000</td>\n",
       "      <td>1</td>\n",
       "    </tr>\n",
       "    <tr>\n",
       "      <th>1</th>\n",
       "      <td>2950.0</td>\n",
       "      <td>27</td>\n",
       "      <td>130</td>\n",
       "      <td>2294.444444</td>\n",
       "      <td>29500</td>\n",
       "      <td>1</td>\n",
       "    </tr>\n",
       "    <tr>\n",
       "      <th>2</th>\n",
       "      <td>3100.0</td>\n",
       "      <td>28</td>\n",
       "      <td>144</td>\n",
       "      <td>2564.545455</td>\n",
       "      <td>31000</td>\n",
       "      <td>1</td>\n",
       "    </tr>\n",
       "  </tbody>\n",
       "</table>\n",
       "</div>"
      ],
      "text/plain": [
       "   Premiums Paid  Age  Days to Renew  Claims made  Income  clust\n",
       "0         2800.0   26            233  3890.076336   28000      1\n",
       "1         2950.0   27            130  2294.444444   29500      1\n",
       "2         3100.0   28            144  2564.545455   31000      1"
      ]
     },
     "execution_count": 36,
     "metadata": {},
     "output_type": "execute_result"
    }
   ],
   "source": [
    "model=KMeans(n_clusters=3)\n",
    "model.fit(df_minmax)\n",
    "model.labels_\n",
    "mb=pd.Series(model.labels_)\n",
    "df_minmax3= df.copy()\n",
    "df_minmax3['clust']=mb\n",
    "df_minmax3.head(3)"
   ]
  },
  {
   "cell_type": "code",
   "execution_count": 37,
   "id": "86ec06da",
   "metadata": {},
   "outputs": [
    {
     "data": {
      "text/html": [
       "<div>\n",
       "<style scoped>\n",
       "    .dataframe tbody tr th:only-of-type {\n",
       "        vertical-align: middle;\n",
       "    }\n",
       "\n",
       "    .dataframe tbody tr th {\n",
       "        vertical-align: top;\n",
       "    }\n",
       "\n",
       "    .dataframe thead th {\n",
       "        text-align: right;\n",
       "    }\n",
       "</style>\n",
       "<table border=\"1\" class=\"dataframe\">\n",
       "  <thead>\n",
       "    <tr style=\"text-align: right;\">\n",
       "      <th></th>\n",
       "      <th>Premiums Paid</th>\n",
       "      <th>Age</th>\n",
       "      <th>Days to Renew</th>\n",
       "      <th>Claims made</th>\n",
       "      <th>Income</th>\n",
       "    </tr>\n",
       "    <tr>\n",
       "      <th>clust</th>\n",
       "      <th></th>\n",
       "      <th></th>\n",
       "      <th></th>\n",
       "      <th></th>\n",
       "      <th></th>\n",
       "    </tr>\n",
       "  </thead>\n",
       "  <tbody>\n",
       "    <tr>\n",
       "      <th>0</th>\n",
       "      <td>20</td>\n",
       "      <td>20</td>\n",
       "      <td>20</td>\n",
       "      <td>20</td>\n",
       "      <td>20</td>\n",
       "    </tr>\n",
       "    <tr>\n",
       "      <th>1</th>\n",
       "      <td>49</td>\n",
       "      <td>49</td>\n",
       "      <td>49</td>\n",
       "      <td>49</td>\n",
       "      <td>49</td>\n",
       "    </tr>\n",
       "    <tr>\n",
       "      <th>2</th>\n",
       "      <td>31</td>\n",
       "      <td>31</td>\n",
       "      <td>31</td>\n",
       "      <td>31</td>\n",
       "      <td>31</td>\n",
       "    </tr>\n",
       "  </tbody>\n",
       "</table>\n",
       "</div>"
      ],
      "text/plain": [
       "       Premiums Paid  Age  Days to Renew  Claims made  Income\n",
       "clust                                                        \n",
       "0                 20   20             20           20      20\n",
       "1                 49   49             49           49      49\n",
       "2                 31   31             31           31      31"
      ]
     },
     "execution_count": 37,
     "metadata": {},
     "output_type": "execute_result"
    }
   ],
   "source": [
    "df_minmax3.groupby(['clust']).count()"
   ]
  },
  {
   "cell_type": "code",
   "execution_count": 38,
   "id": "4c51b617",
   "metadata": {},
   "outputs": [
    {
     "data": {
      "text/html": [
       "<div>\n",
       "<style scoped>\n",
       "    .dataframe tbody tr th:only-of-type {\n",
       "        vertical-align: middle;\n",
       "    }\n",
       "\n",
       "    .dataframe tbody tr th {\n",
       "        vertical-align: top;\n",
       "    }\n",
       "\n",
       "    .dataframe thead th {\n",
       "        text-align: right;\n",
       "    }\n",
       "</style>\n",
       "<table border=\"1\" class=\"dataframe\">\n",
       "  <thead>\n",
       "    <tr style=\"text-align: right;\">\n",
       "      <th></th>\n",
       "      <th>Premiums Paid</th>\n",
       "      <th>Age</th>\n",
       "      <th>Days to Renew</th>\n",
       "      <th>Claims made</th>\n",
       "      <th>Income</th>\n",
       "    </tr>\n",
       "    <tr>\n",
       "      <th>clust</th>\n",
       "      <th></th>\n",
       "      <th></th>\n",
       "      <th></th>\n",
       "      <th></th>\n",
       "      <th></th>\n",
       "    </tr>\n",
       "  </thead>\n",
       "  <tbody>\n",
       "    <tr>\n",
       "      <th>0</th>\n",
       "      <td>17495.000000</td>\n",
       "      <td>51.400000</td>\n",
       "      <td>249.400000</td>\n",
       "      <td>23702.254191</td>\n",
       "      <td>130825.000000</td>\n",
       "    </tr>\n",
       "    <tr>\n",
       "      <th>1</th>\n",
       "      <td>7424.489796</td>\n",
       "      <td>40.428571</td>\n",
       "      <td>96.775510</td>\n",
       "      <td>5525.620848</td>\n",
       "      <td>67275.510204</td>\n",
       "    </tr>\n",
       "    <tr>\n",
       "      <th>2</th>\n",
       "      <td>17337.903226</td>\n",
       "      <td>51.677419</td>\n",
       "      <td>74.516129</td>\n",
       "      <td>11124.629046</td>\n",
       "      <td>139096.774194</td>\n",
       "    </tr>\n",
       "  </tbody>\n",
       "</table>\n",
       "</div>"
      ],
      "text/plain": [
       "       Premiums Paid        Age  Days to Renew   Claims made         Income\n",
       "clust                                                                      \n",
       "0       17495.000000  51.400000     249.400000  23702.254191  130825.000000\n",
       "1        7424.489796  40.428571      96.775510   5525.620848   67275.510204\n",
       "2       17337.903226  51.677419      74.516129  11124.629046  139096.774194"
      ]
     },
     "execution_count": 38,
     "metadata": {},
     "output_type": "execute_result"
    }
   ],
   "source": [
    "df_minmax3.groupby(['clust']).mean()"
   ]
  },
  {
   "cell_type": "code",
   "execution_count": 39,
   "id": "aeac1f5a",
   "metadata": {},
   "outputs": [
    {
     "data": {
      "text/plain": [
       "Text(0, 0.5, 'Claims made')"
      ]
     },
     "execution_count": 39,
     "metadata": {},
     "output_type": "execute_result"
    },
    {
     "data": {
      "image/png": "[encoded data removed]",
      "text/plain": [
       "<Figure size 1080x504 with 1 Axes>"
      ]
     },
     "metadata": {
      "needs_background": "light"
     },
     "output_type": "display_data"
    }
   ],
   "source": [
    "plt.figure(figsize=(15,7))\n",
    "a4 = df_minmax3.clust.map({0:'red', 1:'blue', 2:'black'})\n",
    "plt.scatter(df_minmax3['Income'],df_minmax3['Claims made'], c=a4)\n",
    "\n",
    "from matplotlib.lines import Line2D\n",
    "colors=['red','blue','black']\n",
    "legend_elements = [Line2D([0], [0], marker='o', color='w', label='Cluster {}'.format(i), \n",
    "               markerfacecolor=mcolor, markersize=5) for i, mcolor in enumerate(colors)]\n",
    "\n",
    "plt.legend(handles=legend_elements, loc='upper left')\n",
    "plt.title('Kmeans Clustering using 3 clusters\\n', loc='left', fontsize=14)\n",
    "plt.xticks(rotation=60)\n",
    "plt.xlabel('Income')\n",
    "plt.ylabel('Claims made')"
   ]
  },
  {
   "cell_type": "markdown",
   "id": "632c210b",
   "metadata": {},
   "source": [
    "#### INSIGHTS\n",
    "* Cluster 0 : This group has highest income , premium and claims and has the oldest population of customers\n",
    "* Cluster 1 : This group has low income, premium and claims and has the youngest population\n",
    "* Cluster 2 : This group has a higher income and premium but the claims are low . It has the middle most aged customers"
   ]
  },
  {
   "cell_type": "markdown",
   "id": "a5371ae0",
   "metadata": {},
   "source": [
    "### NO OF CLUSTERS : 4"
   ]
  },
  {
   "cell_type": "code",
   "execution_count": 40,
   "id": "bbe39a6e",
   "metadata": {},
   "outputs": [
    {
     "data": {
      "text/html": [
       "<div>\n",
       "<style scoped>\n",
       "    .dataframe tbody tr th:only-of-type {\n",
       "        vertical-align: middle;\n",
       "    }\n",
       "\n",
       "    .dataframe tbody tr th {\n",
       "        vertical-align: top;\n",
       "    }\n",
       "\n",
       "    .dataframe thead th {\n",
       "        text-align: right;\n",
       "    }\n",
       "</style>\n",
       "<table border=\"1\" class=\"dataframe\">\n",
       "  <thead>\n",
       "    <tr style=\"text-align: right;\">\n",
       "      <th></th>\n",
       "      <th>Premiums Paid</th>\n",
       "      <th>Age</th>\n",
       "      <th>Days to Renew</th>\n",
       "      <th>Claims made</th>\n",
       "      <th>Income</th>\n",
       "      <th>clust</th>\n",
       "    </tr>\n",
       "  </thead>\n",
       "  <tbody>\n",
       "    <tr>\n",
       "      <th>0</th>\n",
       "      <td>2800.0</td>\n",
       "      <td>26</td>\n",
       "      <td>233</td>\n",
       "      <td>3890.076336</td>\n",
       "      <td>28000</td>\n",
       "      <td>0</td>\n",
       "    </tr>\n",
       "    <tr>\n",
       "      <th>1</th>\n",
       "      <td>2950.0</td>\n",
       "      <td>27</td>\n",
       "      <td>130</td>\n",
       "      <td>2294.444444</td>\n",
       "      <td>29500</td>\n",
       "      <td>0</td>\n",
       "    </tr>\n",
       "    <tr>\n",
       "      <th>2</th>\n",
       "      <td>3100.0</td>\n",
       "      <td>28</td>\n",
       "      <td>144</td>\n",
       "      <td>2564.545455</td>\n",
       "      <td>31000</td>\n",
       "      <td>0</td>\n",
       "    </tr>\n",
       "  </tbody>\n",
       "</table>\n",
       "</div>"
      ],
      "text/plain": [
       "   Premiums Paid  Age  Days to Renew  Claims made  Income  clust\n",
       "0         2800.0   26            233  3890.076336   28000      0\n",
       "1         2950.0   27            130  2294.444444   29500      0\n",
       "2         3100.0   28            144  2564.545455   31000      0"
      ]
     },
     "execution_count": 40,
     "metadata": {},
     "output_type": "execute_result"
    }
   ],
   "source": [
    "model=KMeans(n_clusters=4)\n",
    "model.fit(df_minmax)\n",
    "model.labels_\n",
    "mb=pd.Series(model.labels_)\n",
    "df_minmax4= df.copy()\n",
    "df_minmax4['clust']=mb\n",
    "df_minmax4.head(3)"
   ]
  },
  {
   "cell_type": "code",
   "execution_count": 41,
   "id": "4a677115",
   "metadata": {},
   "outputs": [
    {
     "data": {
      "text/html": [
       "<div>\n",
       "<style scoped>\n",
       "    .dataframe tbody tr th:only-of-type {\n",
       "        vertical-align: middle;\n",
       "    }\n",
       "\n",
       "    .dataframe tbody tr th {\n",
       "        vertical-align: top;\n",
       "    }\n",
       "\n",
       "    .dataframe thead th {\n",
       "        text-align: right;\n",
       "    }\n",
       "</style>\n",
       "<table border=\"1\" class=\"dataframe\">\n",
       "  <thead>\n",
       "    <tr style=\"text-align: right;\">\n",
       "      <th></th>\n",
       "      <th>Premiums Paid</th>\n",
       "      <th>Age</th>\n",
       "      <th>Days to Renew</th>\n",
       "      <th>Claims made</th>\n",
       "      <th>Income</th>\n",
       "    </tr>\n",
       "    <tr>\n",
       "      <th>clust</th>\n",
       "      <th></th>\n",
       "      <th></th>\n",
       "      <th></th>\n",
       "      <th></th>\n",
       "      <th></th>\n",
       "    </tr>\n",
       "  </thead>\n",
       "  <tbody>\n",
       "    <tr>\n",
       "      <th>0</th>\n",
       "      <td>28</td>\n",
       "      <td>28</td>\n",
       "      <td>28</td>\n",
       "      <td>28</td>\n",
       "      <td>28</td>\n",
       "    </tr>\n",
       "    <tr>\n",
       "      <th>1</th>\n",
       "      <td>39</td>\n",
       "      <td>39</td>\n",
       "      <td>39</td>\n",
       "      <td>39</td>\n",
       "      <td>39</td>\n",
       "    </tr>\n",
       "    <tr>\n",
       "      <th>2</th>\n",
       "      <td>15</td>\n",
       "      <td>15</td>\n",
       "      <td>15</td>\n",
       "      <td>15</td>\n",
       "      <td>15</td>\n",
       "    </tr>\n",
       "    <tr>\n",
       "      <th>3</th>\n",
       "      <td>18</td>\n",
       "      <td>18</td>\n",
       "      <td>18</td>\n",
       "      <td>18</td>\n",
       "      <td>18</td>\n",
       "    </tr>\n",
       "  </tbody>\n",
       "</table>\n",
       "</div>"
      ],
      "text/plain": [
       "       Premiums Paid  Age  Days to Renew  Claims made  Income\n",
       "clust                                                        \n",
       "0                 28   28             28           28      28\n",
       "1                 39   39             39           39      39\n",
       "2                 15   15             15           15      15\n",
       "3                 18   18             18           18      18"
      ]
     },
     "execution_count": 41,
     "metadata": {},
     "output_type": "execute_result"
    }
   ],
   "source": [
    "df_minmax4.groupby(['clust']).count()"
   ]
  },
  {
   "cell_type": "code",
   "execution_count": 42,
   "id": "5ec43261",
   "metadata": {},
   "outputs": [
    {
     "data": {
      "text/html": [
       "<div>\n",
       "<style scoped>\n",
       "    .dataframe tbody tr th:only-of-type {\n",
       "        vertical-align: middle;\n",
       "    }\n",
       "\n",
       "    .dataframe tbody tr th {\n",
       "        vertical-align: top;\n",
       "    }\n",
       "\n",
       "    .dataframe thead th {\n",
       "        text-align: right;\n",
       "    }\n",
       "</style>\n",
       "<table border=\"1\" class=\"dataframe\">\n",
       "  <thead>\n",
       "    <tr style=\"text-align: right;\">\n",
       "      <th></th>\n",
       "      <th>Premiums Paid</th>\n",
       "      <th>Age</th>\n",
       "      <th>Days to Renew</th>\n",
       "      <th>Claims made</th>\n",
       "      <th>Income</th>\n",
       "    </tr>\n",
       "    <tr>\n",
       "      <th>clust</th>\n",
       "      <th></th>\n",
       "      <th></th>\n",
       "      <th></th>\n",
       "      <th></th>\n",
       "      <th></th>\n",
       "    </tr>\n",
       "  </thead>\n",
       "  <tbody>\n",
       "    <tr>\n",
       "      <th>0</th>\n",
       "      <td>5579.464286</td>\n",
       "      <td>38.464286</td>\n",
       "      <td>79.750000</td>\n",
       "      <td>3683.967613</td>\n",
       "      <td>52107.142857</td>\n",
       "    </tr>\n",
       "    <tr>\n",
       "      <th>1</th>\n",
       "      <td>13247.435897</td>\n",
       "      <td>43.487179</td>\n",
       "      <td>76.538462</td>\n",
       "      <td>8589.957105</td>\n",
       "      <td>119115.384615</td>\n",
       "    </tr>\n",
       "    <tr>\n",
       "      <th>2</th>\n",
       "      <td>9988.333333</td>\n",
       "      <td>48.200000</td>\n",
       "      <td>257.733333</td>\n",
       "      <td>17071.821643</td>\n",
       "      <td>85000.000000</td>\n",
       "    </tr>\n",
       "    <tr>\n",
       "      <th>3</th>\n",
       "      <td>23804.166667</td>\n",
       "      <td>61.944444</td>\n",
       "      <td>164.222222</td>\n",
       "      <td>21968.181160</td>\n",
       "      <td>158083.333333</td>\n",
       "    </tr>\n",
       "  </tbody>\n",
       "</table>\n",
       "</div>"
      ],
      "text/plain": [
       "       Premiums Paid        Age  Days to Renew   Claims made         Income\n",
       "clust                                                                      \n",
       "0        5579.464286  38.464286      79.750000   3683.967613   52107.142857\n",
       "1       13247.435897  43.487179      76.538462   8589.957105  119115.384615\n",
       "2        9988.333333  48.200000     257.733333  17071.821643   85000.000000\n",
       "3       23804.166667  61.944444     164.222222  21968.181160  158083.333333"
      ]
     },
     "execution_count": 42,
     "metadata": {},
     "output_type": "execute_result"
    }
   ],
   "source": [
    "df_minmax4.groupby(['clust']).mean()"
   ]
  },
  {
   "cell_type": "code",
   "execution_count": 43,
   "id": "caa56d96",
   "metadata": {},
   "outputs": [
    {
     "data": {
      "text/plain": [
       "Text(0, 0.5, 'Claims made')"
      ]
     },
     "execution_count": 43,
     "metadata": {},
     "output_type": "execute_result"
    },
    {
     "data": {
      "image/png": "[encoded data removed]",
      "text/plain": [
       "<Figure size 1080x504 with 1 Axes>"
      ]
     },
     "metadata": {
      "needs_background": "light"
     },
     "output_type": "display_data"
    }
   ],
   "source": [
    "plt.figure(figsize=(15,7))\n",
    "a4 = df_minmax4.clust.map({0:'red', 1:'blue', 2:'black',3:'yellow'})\n",
    "plt.scatter(df_minmax4['Income'],df_minmax4['Claims made'], c=a4)\n",
    "\n",
    "from matplotlib.lines import Line2D\n",
    "colors=['red','blue','black','yellow']\n",
    "legend_elements = [Line2D([0], [0], marker='o', color='w', label='Cluster {}'.format(i), \n",
    "               markerfacecolor=mcolor, markersize=5) for i, mcolor in enumerate(colors)]\n",
    "\n",
    "plt.legend(handles=legend_elements, loc='upper left')\n",
    "plt.title('Kmeans Clustering using 4 clusters\\n', loc='left', fontsize=14)\n",
    "plt.xticks(rotation=60)\n",
    "plt.xlabel('Income')\n",
    "plt.ylabel('Claims made')"
   ]
  },
  {
   "cell_type": "markdown",
   "id": "ecac6822",
   "metadata": {},
   "source": [
    "#### INSIGHTS\n",
    "* Cluster 0 : This group has lowest income, premium and claims and has the youngest population\n",
    "* Cluster 1 : This group has a higher income and premium but the claims are low . It has comparatively young customers\n",
    "* Cluster 2 : This group has a lower income and premium but the claims are high. It has the second oldest customers.\n",
    "* Cluster 3 : This group has highest income , premium and claims and has the oldest population of customers"
   ]
  },
  {
   "cell_type": "markdown",
   "id": "a3b43507",
   "metadata": {},
   "source": [
    "## STANDARDIZATION\n",
    "Using standardization to carry out the scaling of the data to generalize the data."
   ]
  },
  {
   "cell_type": "code",
   "execution_count": 44,
   "id": "e27b587b",
   "metadata": {},
   "outputs": [
    {
     "data": {
      "text/html": [
       "<div>\n",
       "<style scoped>\n",
       "    .dataframe tbody tr th:only-of-type {\n",
       "        vertical-align: middle;\n",
       "    }\n",
       "\n",
       "    .dataframe tbody tr th {\n",
       "        vertical-align: top;\n",
       "    }\n",
       "\n",
       "    .dataframe thead th {\n",
       "        text-align: right;\n",
       "    }\n",
       "</style>\n",
       "<table border=\"1\" class=\"dataframe\">\n",
       "  <thead>\n",
       "    <tr style=\"text-align: right;\">\n",
       "      <th></th>\n",
       "      <th>Premiums Paid</th>\n",
       "      <th>Age</th>\n",
       "      <th>Days to Renew</th>\n",
       "      <th>Claims made</th>\n",
       "      <th>Income</th>\n",
       "    </tr>\n",
       "  </thead>\n",
       "  <tbody>\n",
       "    <tr>\n",
       "      <th>0</th>\n",
       "      <td>-1.453432</td>\n",
       "      <td>-1.455345</td>\n",
       "      <td>1.285177</td>\n",
       "      <td>-0.909759</td>\n",
       "      <td>-1.714816</td>\n",
       "    </tr>\n",
       "    <tr>\n",
       "      <th>1</th>\n",
       "      <td>-1.430984</td>\n",
       "      <td>-1.382976</td>\n",
       "      <td>0.109571</td>\n",
       "      <td>-1.116941</td>\n",
       "      <td>-1.680173</td>\n",
       "    </tr>\n",
       "  </tbody>\n",
       "</table>\n",
       "</div>"
      ],
      "text/plain": [
       "   Premiums Paid       Age  Days to Renew  Claims made    Income\n",
       "0      -1.453432 -1.455345       1.285177    -0.909759 -1.714816\n",
       "1      -1.430984 -1.382976       0.109571    -1.116941 -1.680173"
      ]
     },
     "execution_count": 44,
     "metadata": {},
     "output_type": "execute_result"
    }
   ],
   "source": [
    "from sklearn.preprocessing import StandardScaler\n",
    "stdscaled=StandardScaler()\n",
    "df_stdscaled=pd.DataFrame(stdscaled.fit_transform(df),columns=df.columns,index=df.index)\n",
    "df_stdscaled.head(2)"
   ]
  },
  {
   "cell_type": "code",
   "execution_count": 45,
   "id": "0feed894",
   "metadata": {},
   "outputs": [
    {
     "data": {
      "text/html": [
       "<div>\n",
       "<style scoped>\n",
       "    .dataframe tbody tr th:only-of-type {\n",
       "        vertical-align: middle;\n",
       "    }\n",
       "\n",
       "    .dataframe tbody tr th {\n",
       "        vertical-align: top;\n",
       "    }\n",
       "\n",
       "    .dataframe thead th {\n",
       "        text-align: right;\n",
       "    }\n",
       "</style>\n",
       "<table border=\"1\" class=\"dataframe\">\n",
       "  <thead>\n",
       "    <tr style=\"text-align: right;\">\n",
       "      <th></th>\n",
       "      <th>Premiums Paid</th>\n",
       "      <th>Age</th>\n",
       "      <th>Days to Renew</th>\n",
       "      <th>Claims made</th>\n",
       "      <th>Income</th>\n",
       "    </tr>\n",
       "  </thead>\n",
       "  <tbody>\n",
       "    <tr>\n",
       "      <th>count</th>\n",
       "      <td>100.000000</td>\n",
       "      <td>1.000000e+02</td>\n",
       "      <td>1.000000e+02</td>\n",
       "      <td>1.000000e+02</td>\n",
       "      <td>1.000000e+02</td>\n",
       "    </tr>\n",
       "    <tr>\n",
       "      <th>mean</th>\n",
       "      <td>0.000000</td>\n",
       "      <td>2.164935e-17</td>\n",
       "      <td>-7.993606e-17</td>\n",
       "      <td>-2.664535e-17</td>\n",
       "      <td>6.217249e-17</td>\n",
       "    </tr>\n",
       "    <tr>\n",
       "      <th>std</th>\n",
       "      <td>1.005038</td>\n",
       "      <td>1.005038e+00</td>\n",
       "      <td>1.005038e+00</td>\n",
       "      <td>1.005038e+00</td>\n",
       "      <td>1.005038e+00</td>\n",
       "    </tr>\n",
       "    <tr>\n",
       "      <th>min</th>\n",
       "      <td>-1.453432</td>\n",
       "      <td>-1.672453e+00</td>\n",
       "      <td>-1.362790e+00</td>\n",
       "      <td>-1.157996e+00</td>\n",
       "      <td>-1.714816e+00</td>\n",
       "    </tr>\n",
       "    <tr>\n",
       "      <th>25%</th>\n",
       "      <td>-0.828614</td>\n",
       "      <td>-8.763913e-01</td>\n",
       "      <td>-7.350391e-01</td>\n",
       "      <td>-7.369921e-01</td>\n",
       "      <td>-8.574080e-01</td>\n",
       "    </tr>\n",
       "    <tr>\n",
       "      <th>50%</th>\n",
       "      <td>-0.102777</td>\n",
       "      <td>-8.032984e-02</td>\n",
       "      <td>-3.583886e-01</td>\n",
       "      <td>-3.259853e-01</td>\n",
       "      <td>0.000000e+00</td>\n",
       "    </tr>\n",
       "    <tr>\n",
       "      <th>75%</th>\n",
       "      <td>0.443471</td>\n",
       "      <td>6.071778e-01</td>\n",
       "      <td>7.544423e-01</td>\n",
       "      <td>4.900628e-01</td>\n",
       "      <td>8.574080e-01</td>\n",
       "    </tr>\n",
       "    <tr>\n",
       "      <th>max</th>\n",
       "      <td>2.351599</td>\n",
       "      <td>2.597332e+00</td>\n",
       "      <td>2.289578e+00</td>\n",
       "      <td>2.330645e+00</td>\n",
       "      <td>1.714816e+00</td>\n",
       "    </tr>\n",
       "  </tbody>\n",
       "</table>\n",
       "</div>"
      ],
      "text/plain": [
       "       Premiums Paid           Age  Days to Renew   Claims made        Income\n",
       "count     100.000000  1.000000e+02   1.000000e+02  1.000000e+02  1.000000e+02\n",
       "mean        0.000000  2.164935e-17  -7.993606e-17 -2.664535e-17  6.217249e-17\n",
       "std         1.005038  1.005038e+00   1.005038e+00  1.005038e+00  1.005038e+00\n",
       "min        -1.453432 -1.672453e+00  -1.362790e+00 -1.157996e+00 -1.714816e+00\n",
       "25%        -0.828614 -8.763913e-01  -7.350391e-01 -7.369921e-01 -8.574080e-01\n",
       "50%        -0.102777 -8.032984e-02  -3.583886e-01 -3.259853e-01  0.000000e+00\n",
       "75%         0.443471  6.071778e-01   7.544423e-01  4.900628e-01  8.574080e-01\n",
       "max         2.351599  2.597332e+00   2.289578e+00  2.330645e+00  1.714816e+00"
      ]
     },
     "execution_count": 45,
     "metadata": {},
     "output_type": "execute_result"
    }
   ],
   "source": [
    "df_stdscaled.describe()"
   ]
  },
  {
   "cell_type": "markdown",
   "id": "723b3042",
   "metadata": {},
   "source": [
    "### SCREE PLOT\n",
    "Creating the Scree plot to get an idea about the number of clusters to choose for Kmeans Clustering."
   ]
  },
  {
   "cell_type": "code",
   "execution_count": 46,
   "id": "e0e0d5ec",
   "metadata": {},
   "outputs": [
    {
     "data": {
      "text/plain": [
       "[297.5193117064256,\n",
       " 229.38913079737415,\n",
       " 173.75255477105972,\n",
       " 142.05963977412947,\n",
       " 112.78517252866585,\n",
       " 101.45530598179211,\n",
       " 91.5704511662616]"
      ]
     },
     "execution_count": 46,
     "metadata": {},
     "output_type": "execute_result"
    }
   ],
   "source": [
    "from sklearn.cluster import KMeans\n",
    "TWSS=[]\n",
    "k=list(range(2,9))\n",
    "for i in k:\n",
    "    kmeans= KMeans(n_clusters=i)\n",
    "    kmeans.fit(df_stdscaled)\n",
    "    TWSS.append(kmeans.inertia_)\n",
    "TWSS"
   ]
  },
  {
   "cell_type": "code",
   "execution_count": 47,
   "id": "e4451bb7",
   "metadata": {},
   "outputs": [
    {
     "data": {
      "text/plain": [
       "Text(0, 0.5, 'Total within SS')"
      ]
     },
     "execution_count": 47,
     "metadata": {},
     "output_type": "execute_result"
    },
    {
     "data": {
      "image/png": "[encoded data removed]",
      "text/plain": [
       "<Figure size 432x288 with 1 Axes>"
      ]
     },
     "metadata": {
      "needs_background": "light"
     },
     "output_type": "display_data"
    }
   ],
   "source": [
    "plt.plot(k,TWSS,'ro-');plt.xlabel(\"No of Clusters\"); plt.ylabel(\"Total within SS\")"
   ]
  },
  {
   "cell_type": "markdown",
   "id": "6c49d372",
   "metadata": {},
   "source": [
    "From the scree plot 3 number of clusters seem to be the most optimum number for kmeans clustering."
   ]
  },
  {
   "cell_type": "markdown",
   "id": "c1d65011",
   "metadata": {},
   "source": [
    "### NO OF CLUSTERS : 3"
   ]
  },
  {
   "cell_type": "code",
   "execution_count": 48,
   "id": "7aae3c7f",
   "metadata": {},
   "outputs": [
    {
     "data": {
      "text/html": [
       "<div>\n",
       "<style scoped>\n",
       "    .dataframe tbody tr th:only-of-type {\n",
       "        vertical-align: middle;\n",
       "    }\n",
       "\n",
       "    .dataframe tbody tr th {\n",
       "        vertical-align: top;\n",
       "    }\n",
       "\n",
       "    .dataframe thead th {\n",
       "        text-align: right;\n",
       "    }\n",
       "</style>\n",
       "<table border=\"1\" class=\"dataframe\">\n",
       "  <thead>\n",
       "    <tr style=\"text-align: right;\">\n",
       "      <th></th>\n",
       "      <th>Premiums Paid</th>\n",
       "      <th>Age</th>\n",
       "      <th>Days to Renew</th>\n",
       "      <th>Claims made</th>\n",
       "      <th>Income</th>\n",
       "      <th>clust</th>\n",
       "    </tr>\n",
       "  </thead>\n",
       "  <tbody>\n",
       "    <tr>\n",
       "      <th>0</th>\n",
       "      <td>2800.0</td>\n",
       "      <td>26</td>\n",
       "      <td>233</td>\n",
       "      <td>3890.076336</td>\n",
       "      <td>28000</td>\n",
       "      <td>0</td>\n",
       "    </tr>\n",
       "    <tr>\n",
       "      <th>1</th>\n",
       "      <td>2950.0</td>\n",
       "      <td>27</td>\n",
       "      <td>130</td>\n",
       "      <td>2294.444444</td>\n",
       "      <td>29500</td>\n",
       "      <td>0</td>\n",
       "    </tr>\n",
       "    <tr>\n",
       "      <th>2</th>\n",
       "      <td>3100.0</td>\n",
       "      <td>28</td>\n",
       "      <td>144</td>\n",
       "      <td>2564.545455</td>\n",
       "      <td>31000</td>\n",
       "      <td>0</td>\n",
       "    </tr>\n",
       "  </tbody>\n",
       "</table>\n",
       "</div>"
      ],
      "text/plain": [
       "   Premiums Paid  Age  Days to Renew  Claims made  Income  clust\n",
       "0         2800.0   26            233  3890.076336   28000      0\n",
       "1         2950.0   27            130  2294.444444   29500      0\n",
       "2         3100.0   28            144  2564.545455   31000      0"
      ]
     },
     "execution_count": 48,
     "metadata": {},
     "output_type": "execute_result"
    }
   ],
   "source": [
    "model=KMeans(n_clusters=3)\n",
    "model.fit(df_stdscaled)\n",
    "model.labels_\n",
    "mb=pd.Series(model.labels_)\n",
    "df_stdscaled3= df.copy()\n",
    "df_stdscaled3['clust']=mb\n",
    "df_stdscaled3.head(3)"
   ]
  },
  {
   "cell_type": "code",
   "execution_count": 49,
   "id": "20c703d8",
   "metadata": {
    "scrolled": true
   },
   "outputs": [
    {
     "data": {
      "text/html": [
       "<div>\n",
       "<style scoped>\n",
       "    .dataframe tbody tr th:only-of-type {\n",
       "        vertical-align: middle;\n",
       "    }\n",
       "\n",
       "    .dataframe tbody tr th {\n",
       "        vertical-align: top;\n",
       "    }\n",
       "\n",
       "    .dataframe thead th {\n",
       "        text-align: right;\n",
       "    }\n",
       "</style>\n",
       "<table border=\"1\" class=\"dataframe\">\n",
       "  <thead>\n",
       "    <tr style=\"text-align: right;\">\n",
       "      <th></th>\n",
       "      <th>Premiums Paid</th>\n",
       "      <th>Age</th>\n",
       "      <th>Days to Renew</th>\n",
       "      <th>Claims made</th>\n",
       "      <th>Income</th>\n",
       "    </tr>\n",
       "    <tr>\n",
       "      <th>clust</th>\n",
       "      <th></th>\n",
       "      <th></th>\n",
       "      <th></th>\n",
       "      <th></th>\n",
       "      <th></th>\n",
       "    </tr>\n",
       "  </thead>\n",
       "  <tbody>\n",
       "    <tr>\n",
       "      <th>0</th>\n",
       "      <td>46</td>\n",
       "      <td>46</td>\n",
       "      <td>46</td>\n",
       "      <td>46</td>\n",
       "      <td>46</td>\n",
       "    </tr>\n",
       "    <tr>\n",
       "      <th>1</th>\n",
       "      <td>19</td>\n",
       "      <td>19</td>\n",
       "      <td>19</td>\n",
       "      <td>19</td>\n",
       "      <td>19</td>\n",
       "    </tr>\n",
       "    <tr>\n",
       "      <th>2</th>\n",
       "      <td>35</td>\n",
       "      <td>35</td>\n",
       "      <td>35</td>\n",
       "      <td>35</td>\n",
       "      <td>35</td>\n",
       "    </tr>\n",
       "  </tbody>\n",
       "</table>\n",
       "</div>"
      ],
      "text/plain": [
       "       Premiums Paid  Age  Days to Renew  Claims made  Income\n",
       "clust                                                        \n",
       "0                 46   46             46           46      46\n",
       "1                 19   19             19           19      19\n",
       "2                 35   35             35           35      35"
      ]
     },
     "execution_count": 49,
     "metadata": {},
     "output_type": "execute_result"
    }
   ],
   "source": [
    "df_stdscaled3.groupby(['clust']).count()"
   ]
  },
  {
   "cell_type": "code",
   "execution_count": 50,
   "id": "679d9d36",
   "metadata": {},
   "outputs": [
    {
     "data": {
      "text/html": [
       "<div>\n",
       "<style scoped>\n",
       "    .dataframe tbody tr th:only-of-type {\n",
       "        vertical-align: middle;\n",
       "    }\n",
       "\n",
       "    .dataframe tbody tr th {\n",
       "        vertical-align: top;\n",
       "    }\n",
       "\n",
       "    .dataframe thead th {\n",
       "        text-align: right;\n",
       "    }\n",
       "</style>\n",
       "<table border=\"1\" class=\"dataframe\">\n",
       "  <thead>\n",
       "    <tr style=\"text-align: right;\">\n",
       "      <th></th>\n",
       "      <th>Premiums Paid</th>\n",
       "      <th>Age</th>\n",
       "      <th>Days to Renew</th>\n",
       "      <th>Claims made</th>\n",
       "      <th>Income</th>\n",
       "    </tr>\n",
       "    <tr>\n",
       "      <th>clust</th>\n",
       "      <th></th>\n",
       "      <th></th>\n",
       "      <th></th>\n",
       "      <th></th>\n",
       "      <th></th>\n",
       "    </tr>\n",
       "  </thead>\n",
       "  <tbody>\n",
       "    <tr>\n",
       "      <th>0</th>\n",
       "      <td>7134.782609</td>\n",
       "      <td>39.565217</td>\n",
       "      <td>106.869565</td>\n",
       "      <td>5688.472515</td>\n",
       "      <td>64880.434783</td>\n",
       "    </tr>\n",
       "    <tr>\n",
       "      <th>1</th>\n",
       "      <td>17897.368421</td>\n",
       "      <td>52.684211</td>\n",
       "      <td>249.631579</td>\n",
       "      <td>24156.861997</td>\n",
       "      <td>132526.315789</td>\n",
       "    </tr>\n",
       "    <tr>\n",
       "      <th>2</th>\n",
       "      <td>16655.000000</td>\n",
       "      <td>51.142857</td>\n",
       "      <td>68.028571</td>\n",
       "      <td>10543.254061</td>\n",
       "      <td>134928.571429</td>\n",
       "    </tr>\n",
       "  </tbody>\n",
       "</table>\n",
       "</div>"
      ],
      "text/plain": [
       "       Premiums Paid        Age  Days to Renew   Claims made         Income\n",
       "clust                                                                      \n",
       "0        7134.782609  39.565217     106.869565   5688.472515   64880.434783\n",
       "1       17897.368421  52.684211     249.631579  24156.861997  132526.315789\n",
       "2       16655.000000  51.142857      68.028571  10543.254061  134928.571429"
      ]
     },
     "execution_count": 50,
     "metadata": {},
     "output_type": "execute_result"
    }
   ],
   "source": [
    "df_stdscaled3.groupby(['clust']).mean()"
   ]
  },
  {
   "cell_type": "code",
   "execution_count": 51,
   "id": "79a2895f",
   "metadata": {},
   "outputs": [
    {
     "data": {
      "text/plain": [
       "Text(0, 0.5, 'Claims made')"
      ]
     },
     "execution_count": 51,
     "metadata": {},
     "output_type": "execute_result"
    },
    {
     "data": {
      "image/png": "[encoded data removed]",
      "text/plain": [
       "<Figure size 1080x504 with 1 Axes>"
      ]
     },
     "metadata": {
      "needs_background": "light"
     },
     "output_type": "display_data"
    }
   ],
   "source": [
    "plt.figure(figsize=(15,7))\n",
    "a4 = df_stdscaled3.clust.map({0:'red', 1:'blue', 2:'black'})\n",
    "plt.scatter(df_stdscaled3['Income'],df_stdscaled3['Claims made'], c=a4)\n",
    "\n",
    "from matplotlib.lines import Line2D\n",
    "colors=['red','blue','black']\n",
    "legend_elements = [Line2D([0], [0], marker='o', color='w', label='Cluster {}'.format(i), \n",
    "               markerfacecolor=mcolor, markersize=5) for i, mcolor in enumerate(colors)]\n",
    "\n",
    "plt.legend(handles=legend_elements, loc='upper left')\n",
    "plt.title('Kmeans Clustering using 3 clusters\\n', loc='left', fontsize=14)\n",
    "plt.xticks(rotation=60)\n",
    "plt.xticks(rotation=60)\n",
    "plt.xlabel('Income')\n",
    "plt.ylabel('Claims made')"
   ]
  },
  {
   "cell_type": "markdown",
   "id": "0e253f25",
   "metadata": {},
   "source": [
    "#### INSIGHTS\n",
    "* Cluster 0 : This group has highest income , premium and claims and has the oldest population of customers\n",
    "* Cluster 1 : This group has low income, premium and claims and has the youngest population\n",
    "* Cluster 2 : This group has a higher income and premium but the claims are low . It has the middle most aged customers"
   ]
  },
  {
   "cell_type": "markdown",
   "id": "aa67da6c",
   "metadata": {},
   "source": [
    "### NO OF CLUSTERS : 4"
   ]
  },
  {
   "cell_type": "code",
   "execution_count": 52,
   "id": "711baf28",
   "metadata": {},
   "outputs": [
    {
     "data": {
      "text/html": [
       "<div>\n",
       "<style scoped>\n",
       "    .dataframe tbody tr th:only-of-type {\n",
       "        vertical-align: middle;\n",
       "    }\n",
       "\n",
       "    .dataframe tbody tr th {\n",
       "        vertical-align: top;\n",
       "    }\n",
       "\n",
       "    .dataframe thead th {\n",
       "        text-align: right;\n",
       "    }\n",
       "</style>\n",
       "<table border=\"1\" class=\"dataframe\">\n",
       "  <thead>\n",
       "    <tr style=\"text-align: right;\">\n",
       "      <th></th>\n",
       "      <th>Premiums Paid</th>\n",
       "      <th>Age</th>\n",
       "      <th>Days to Renew</th>\n",
       "      <th>Claims made</th>\n",
       "      <th>Income</th>\n",
       "      <th>clust</th>\n",
       "    </tr>\n",
       "  </thead>\n",
       "  <tbody>\n",
       "    <tr>\n",
       "      <th>0</th>\n",
       "      <td>2800.0</td>\n",
       "      <td>26</td>\n",
       "      <td>233</td>\n",
       "      <td>3890.076336</td>\n",
       "      <td>28000</td>\n",
       "      <td>1</td>\n",
       "    </tr>\n",
       "    <tr>\n",
       "      <th>1</th>\n",
       "      <td>2950.0</td>\n",
       "      <td>27</td>\n",
       "      <td>130</td>\n",
       "      <td>2294.444444</td>\n",
       "      <td>29500</td>\n",
       "      <td>1</td>\n",
       "    </tr>\n",
       "    <tr>\n",
       "      <th>2</th>\n",
       "      <td>3100.0</td>\n",
       "      <td>28</td>\n",
       "      <td>144</td>\n",
       "      <td>2564.545455</td>\n",
       "      <td>31000</td>\n",
       "      <td>1</td>\n",
       "    </tr>\n",
       "  </tbody>\n",
       "</table>\n",
       "</div>"
      ],
      "text/plain": [
       "   Premiums Paid  Age  Days to Renew  Claims made  Income  clust\n",
       "0         2800.0   26            233  3890.076336   28000      1\n",
       "1         2950.0   27            130  2294.444444   29500      1\n",
       "2         3100.0   28            144  2564.545455   31000      1"
      ]
     },
     "execution_count": 52,
     "metadata": {},
     "output_type": "execute_result"
    }
   ],
   "source": [
    "model=KMeans(n_clusters=4)\n",
    "model.fit(df_stdscaled)\n",
    "model.labels_\n",
    "mb=pd.Series(model.labels_)\n",
    "df_stdscaled4= df.copy()\n",
    "df_stdscaled4['clust']=mb\n",
    "df_stdscaled4.head(3)"
   ]
  },
  {
   "cell_type": "code",
   "execution_count": 53,
   "id": "a95d2434",
   "metadata": {},
   "outputs": [
    {
     "data": {
      "text/html": [
       "<div>\n",
       "<style scoped>\n",
       "    .dataframe tbody tr th:only-of-type {\n",
       "        vertical-align: middle;\n",
       "    }\n",
       "\n",
       "    .dataframe tbody tr th {\n",
       "        vertical-align: top;\n",
       "    }\n",
       "\n",
       "    .dataframe thead th {\n",
       "        text-align: right;\n",
       "    }\n",
       "</style>\n",
       "<table border=\"1\" class=\"dataframe\">\n",
       "  <thead>\n",
       "    <tr style=\"text-align: right;\">\n",
       "      <th></th>\n",
       "      <th>Premiums Paid</th>\n",
       "      <th>Age</th>\n",
       "      <th>Days to Renew</th>\n",
       "      <th>Claims made</th>\n",
       "      <th>Income</th>\n",
       "    </tr>\n",
       "    <tr>\n",
       "      <th>clust</th>\n",
       "      <th></th>\n",
       "      <th></th>\n",
       "      <th></th>\n",
       "      <th></th>\n",
       "      <th></th>\n",
       "    </tr>\n",
       "  </thead>\n",
       "  <tbody>\n",
       "    <tr>\n",
       "      <th>0</th>\n",
       "      <td>16</td>\n",
       "      <td>16</td>\n",
       "      <td>16</td>\n",
       "      <td>16</td>\n",
       "      <td>16</td>\n",
       "    </tr>\n",
       "    <tr>\n",
       "      <th>1</th>\n",
       "      <td>29</td>\n",
       "      <td>29</td>\n",
       "      <td>29</td>\n",
       "      <td>29</td>\n",
       "      <td>29</td>\n",
       "    </tr>\n",
       "    <tr>\n",
       "      <th>2</th>\n",
       "      <td>37</td>\n",
       "      <td>37</td>\n",
       "      <td>37</td>\n",
       "      <td>37</td>\n",
       "      <td>37</td>\n",
       "    </tr>\n",
       "    <tr>\n",
       "      <th>3</th>\n",
       "      <td>18</td>\n",
       "      <td>18</td>\n",
       "      <td>18</td>\n",
       "      <td>18</td>\n",
       "      <td>18</td>\n",
       "    </tr>\n",
       "  </tbody>\n",
       "</table>\n",
       "</div>"
      ],
      "text/plain": [
       "       Premiums Paid  Age  Days to Renew  Claims made  Income\n",
       "clust                                                        \n",
       "0                 16   16             16           16      16\n",
       "1                 29   29             29           29      29\n",
       "2                 37   37             37           37      37\n",
       "3                 18   18             18           18      18"
      ]
     },
     "execution_count": 53,
     "metadata": {},
     "output_type": "execute_result"
    }
   ],
   "source": [
    "df_stdscaled4.groupby(['clust']).count()"
   ]
  },
  {
   "cell_type": "code",
   "execution_count": 54,
   "id": "b9d2f191",
   "metadata": {},
   "outputs": [
    {
     "data": {
      "text/html": [
       "<div>\n",
       "<style scoped>\n",
       "    .dataframe tbody tr th:only-of-type {\n",
       "        vertical-align: middle;\n",
       "    }\n",
       "\n",
       "    .dataframe tbody tr th {\n",
       "        vertical-align: top;\n",
       "    }\n",
       "\n",
       "    .dataframe thead th {\n",
       "        text-align: right;\n",
       "    }\n",
       "</style>\n",
       "<table border=\"1\" class=\"dataframe\">\n",
       "  <thead>\n",
       "    <tr style=\"text-align: right;\">\n",
       "      <th></th>\n",
       "      <th>Premiums Paid</th>\n",
       "      <th>Age</th>\n",
       "      <th>Days to Renew</th>\n",
       "      <th>Claims made</th>\n",
       "      <th>Income</th>\n",
       "    </tr>\n",
       "    <tr>\n",
       "      <th>clust</th>\n",
       "      <th></th>\n",
       "      <th></th>\n",
       "      <th></th>\n",
       "      <th></th>\n",
       "      <th></th>\n",
       "    </tr>\n",
       "  </thead>\n",
       "  <tbody>\n",
       "    <tr>\n",
       "      <th>0</th>\n",
       "      <td>9753.125000</td>\n",
       "      <td>48.687500</td>\n",
       "      <td>254.125000</td>\n",
       "      <td>16436.597272</td>\n",
       "      <td>82281.250000</td>\n",
       "    </tr>\n",
       "    <tr>\n",
       "      <th>1</th>\n",
       "      <td>5954.310345</td>\n",
       "      <td>36.896552</td>\n",
       "      <td>77.724138</td>\n",
       "      <td>3883.730605</td>\n",
       "      <td>55206.896552</td>\n",
       "    </tr>\n",
       "    <tr>\n",
       "      <th>2</th>\n",
       "      <td>13350.675676</td>\n",
       "      <td>44.513514</td>\n",
       "      <td>74.702703</td>\n",
       "      <td>8611.432459</td>\n",
       "      <td>120594.594595</td>\n",
       "    </tr>\n",
       "    <tr>\n",
       "      <th>3</th>\n",
       "      <td>23804.166667</td>\n",
       "      <td>61.944444</td>\n",
       "      <td>164.222222</td>\n",
       "      <td>21968.181160</td>\n",
       "      <td>158083.333333</td>\n",
       "    </tr>\n",
       "  </tbody>\n",
       "</table>\n",
       "</div>"
      ],
      "text/plain": [
       "       Premiums Paid        Age  Days to Renew   Claims made         Income\n",
       "clust                                                                      \n",
       "0        9753.125000  48.687500     254.125000  16436.597272   82281.250000\n",
       "1        5954.310345  36.896552      77.724138   3883.730605   55206.896552\n",
       "2       13350.675676  44.513514      74.702703   8611.432459  120594.594595\n",
       "3       23804.166667  61.944444     164.222222  21968.181160  158083.333333"
      ]
     },
     "execution_count": 54,
     "metadata": {},
     "output_type": "execute_result"
    }
   ],
   "source": [
    "df_stdscaled4.groupby(['clust']).mean()"
   ]
  },
  {
   "cell_type": "code",
   "execution_count": 55,
   "id": "dd1c9e59",
   "metadata": {},
   "outputs": [
    {
     "data": {
      "text/plain": [
       "Text(0, 0.5, 'Claims made')"
      ]
     },
     "execution_count": 55,
     "metadata": {},
     "output_type": "execute_result"
    },
    {
     "data": {
      "image/png": "[encoded data removed]",
      "text/plain": [
       "<Figure size 1080x504 with 1 Axes>"
      ]
     },
     "metadata": {
      "needs_background": "light"
     },
     "output_type": "display_data"
    }
   ],
   "source": [
    "plt.figure(figsize=(15,7))\n",
    "a4 = df_stdscaled4.clust.map({0:'red', 1:'blue', 2:'black',3:'yellow'})\n",
    "plt.scatter(df_stdscaled4['Income'],df_stdscaled4['Claims made'], c=a4)\n",
    "\n",
    "from matplotlib.lines import Line2D\n",
    "colors=['red','blue','black','yellow']\n",
    "legend_elements = [Line2D([0], [0], marker='o', color='w', label='Cluster {}'.format(i), \n",
    "               markerfacecolor=mcolor, markersize=5) for i, mcolor in enumerate(colors)]\n",
    "\n",
    "plt.legend(handles=legend_elements, loc='upper left')\n",
    "plt.title('Kmeans Clustering using 4 clusters\\n', loc='left', fontsize=14)\n",
    "plt.xticks(rotation=60)\n",
    "plt.xlabel('Income')\n",
    "plt.ylabel('Claims made')"
   ]
  },
  {
   "cell_type": "markdown",
   "id": "6b3a67c7",
   "metadata": {},
   "source": [
    "#### INSIGHTS\n",
    "* Cluster 0 : This group has a lower income and premium but the claims are high. It has the second oldest customers.\n",
    "* Cluster 1 : This group has lowest income, premium and claims and has the youngest population\n",
    "* Cluster 2 : This group has a higher income and premium but the claims are low . It has comparatively young customers.\n",
    "* Cluster 3 : This group has highest income , premium and claims and has the oldest population of customers"
   ]
  },
  {
   "cell_type": "markdown",
   "id": "c00d3718",
   "metadata": {},
   "source": [
    "## CONCLUSION\n",
    "From the above insights we can group the customers into the following groups:\n",
    "* __High Income and High Claim__ : This group is a high risk group as the claims made are more than the premium and most of customers are very old"
   ]
  },
  {
   "cell_type": "markdown",
   "id": "2a43c1ac",
   "metadata": {},
   "source": [
    "* __High Income and Low Claim__ : This group is the second oldest although it is a high income and high premium group but the claims are low."
   ]
  },
  {
   "cell_type": "markdown",
   "id": "8a1deaa6",
   "metadata": {},
   "source": [
    "* __Low Income and High Claim__ : This group is a comparatively younger group it also has low income and premium but the claims are high."
   ]
  },
  {
   "cell_type": "markdown",
   "id": "0fe98e54",
   "metadata": {},
   "source": [
    "* __Low Income and Low Claim__ : This group consists of younger customers and it has  low income,  premium and claim."
   ]
  },
  {
   "cell_type": "markdown",
   "id": "318a80cf",
   "metadata": {},
   "source": [
    "### BENEFIT\n",
    "* From the above analysis of the segments we can clearly see where there has to be a more efforts to retain low claim and high income groups\n",
    "* Age and income are the influencing factor "
   ]
  },
  {
   "cell_type": "code",
   "execution_count": null,
   "id": "d81005b0",
   "metadata": {},
   "outputs": [],
   "source": []
  }
 ],
 "metadata": {
  "kernelspec": {
   "display_name": "Python 3 (ipykernel)",
   "language": "python",
   "name": "python3"
  },
  "language_info": {
   "codemirror_mode": {
    "name": "ipython",
    "version": 3
   },
   "file_extension": ".py",
   "mimetype": "text/x-python",
   "name": "python",
   "nbconvert_exporter": "python",
   "pygments_lexer": "ipython3",
   "version": "3.9.12"
  }
 },
 "nbformat": 4,
 "nbformat_minor": 5
}
